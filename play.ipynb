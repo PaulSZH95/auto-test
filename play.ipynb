{
 "cells": [
  {
   "cell_type": "code",
   "execution_count": 1,
   "metadata": {},
   "outputs": [],
   "source": [
    "import ast\n",
    "import os\n",
    "from pprint import pprint\n",
    "import inspect\n",
    "from console_src.ast_parsers.naive_parser import AstVanillaParse as avp\n",
    "from console_src.tools_factory.tool_util import NaiveToolers"
   ]
  },
  {
   "cell_type": "code",
   "execution_count": 2,
   "metadata": {},
   "outputs": [],
   "source": [
    "# Example usage:\n",
    "project_path = \"./\"  # Change this to your actual project directory\n",
    "# formatted_output = print_tree(project_path)\n",
    "tree = avp.build_tree(project_path)"
   ]
  },
  {
   "cell_type": "code",
   "execution_count": 128,
   "metadata": {},
   "outputs": [],
   "source": [
    "# tree\n",
    "# avp.print_tree(project_path)"
   ]
  },
  {
   "cell_type": "code",
   "execution_count": 104,
   "metadata": {},
   "outputs": [],
   "source": [
    "nt = NaiveToolers()\n",
    "\n",
    "@nt.cust_tool()\n",
    "def sample(summ: str, pog:str='hon') -> str:\n",
    "    '''\n",
    "    sample function\n",
    "\n",
    "    summ: str\n",
    "    '''\n",
    "    return summ"
   ]
  },
  {
   "cell_type": "code",
   "execution_count": 110,
   "metadata": {},
   "outputs": [
    {
     "data": {
      "text/plain": [
       "['copy', 'get', 'items', 'keys', 'values']"
      ]
     },
     "execution_count": 110,
     "metadata": {},
     "output_type": "execute_result"
    }
   ],
   "source": [
    "g = inspect.signature(sample)\n",
    "top = {i:j for i,j in g.parameters.items()}"
   ]
  },
  {
   "cell_type": "code",
   "execution_count": null,
   "metadata": {},
   "outputs": [],
   "source": [
    "print(nt.tool_dict)"
   ]
  }
 ],
 "metadata": {
  "kernelspec": {
   "display_name": "auto-test",
   "language": "python",
   "name": "python3"
  },
  "language_info": {
   "codemirror_mode": {
    "name": "ipython",
    "version": 3
   },
   "file_extension": ".py",
   "mimetype": "text/x-python",
   "name": "python",
   "nbconvert_exporter": "python",
   "pygments_lexer": "ipython3",
   "version": "3.11.0"
  }
 },
 "nbformat": 4,
 "nbformat_minor": 2
}
