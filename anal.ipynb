{
 "cells": [
  {
   "cell_type": "markdown",
   "metadata": {},
   "source": [
    "#### Two-Stage Evaluation\n",
    "For production-ready model, we view its quality issues divisible. Objective quality issues and Subjective quality issues.\n",
    "* Objective Issues: Harmful & Illegal response, In-coherent response, Out-of-Character response \n",
    "These issues can be \"Detected\" through simulation & detection. Currently Detection script is specific for FWD use, as it involves spinninig up vLLM instance and detect specific issues for the deployed model. \n",
    "\n",
    "* Subjective Evaluation: Whether the response is funny enough, whether the response is xxx enough\n",
    "These issues require aligning with human preference. "
   ]
  },
  {
   "cell_type": "code",
   "execution_count": 1,
   "metadata": {},
   "outputs": [],
   "source": [
    "from utils import collect_ooc_response\n",
    "collect_ooc_response() "
   ]
  },
  {
   "cell_type": "code",
   "execution_count": 1,
   "metadata": {},
   "outputs": [],
   "source": [
    "from src.attribute import Requirement, Attribute\n",
    "\n",
    "requirements = [\n",
    "    {\n",
    "        \"name\": \"Funny\",\n",
    "        \"desc\": \"Assistant should be funny.\",\n",
    "    },\n",
    "    {\n",
    "        \"name\": \"Concise\",\n",
    "        \"desc\": \"Response from assistant should be concise and within 2 sentences\",\n",
    "    }\n",
    "]\n",
    "\n",
    "requirement = Requirement.make(requirements)"
   ]
  },
  {
   "cell_type": "code",
   "execution_count": 3,
   "metadata": {},
   "outputs": [],
   "source": [
    "# Now we build the evaluator -- Comparative Score (Base on comparing with the buckets)\n",
    "from src.eval import AOEval \n",
    "\n",
    "aoeval = AOEval(requirement)"
   ]
  },
  {
   "cell_type": "code",
   "execution_count": 5,
   "metadata": {},
   "outputs": [
    {
     "name": "stdout",
     "output_type": "stream",
     "text": [
      "Attribute: Funny\n",
      "Conversation:\n",
      "haha\n",
      "Suggested bucket: Ok\n"
     ]
    },
    {
     "data": {
      "text/plain": [
       "'Ok'"
      ]
     },
     "execution_count": 5,
     "metadata": {},
     "output_type": "execute_result"
    }
   ],
   "source": [
    "aoeval.human_annotation(\"haha\", requirement.attributes[0], \"Ok\")"
   ]
  },
  {
   "cell_type": "code",
   "execution_count": null,
   "metadata": {},
   "outputs": [],
   "source": []
  }
 ],
 "metadata": {
  "kernelspec": {
   "display_name": "Python 3",
   "language": "python",
   "name": "python3"
  },
  "language_info": {
   "codemirror_mode": {
    "name": "ipython",
    "version": 3
   },
   "file_extension": ".py",
   "mimetype": "text/x-python",
   "name": "python",
   "nbconvert_exporter": "python",
   "pygments_lexer": "ipython3",
   "version": "3.11.5"
  }
 },
 "nbformat": 4,
 "nbformat_minor": 2
}
