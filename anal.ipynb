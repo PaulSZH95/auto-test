{
 "cells": [
  {
   "cell_type": "markdown",
   "metadata": {},
   "source": [
    "#### Two-Stage Evaluation\n",
    "\n",
    "1. Objective Issue Detection : src.detect\n",
    "\n",
    "2. Subjective Attribute Evaluation: src.evalute\n",
    "\n",
    "3. Simulate conversation: src.simulate "
   ]
  },
  {
   "cell_type": "code",
   "execution_count": 1,
   "metadata": {},
   "outputs": [],
   "source": [
    "from utils import collect_ooc_response\n",
    "collect_ooc_response() "
   ]
  },
  {
   "cell_type": "code",
   "execution_count": 12,
   "metadata": {},
   "outputs": [],
   "source": [
    "# Now we build the evaluator -- Comparative Score (Base on comparing with the buckets)\n",
    "from src.eval import AOEval\n",
    "from src.utils import load_requirements\n",
    "\n",
    "requirements = load_requirements()\n",
    "aoeval = AOEval(requirements) # Async call enabled (Watch-out for request limit)"
   ]
  },
  {
   "cell_type": "code",
   "execution_count": 4,
   "metadata": {},
   "outputs": [
    {
     "name": "stdout",
     "output_type": "stream",
     "text": [
      "{'Funny': 'Ok', 'Concise': 'Ok'}\n"
     ]
    }
   ],
   "source": [
    "import asyncio \n",
    "\n",
    "async def run_eval(conversation):\n",
    "    result = await aoeval.direct_eval(conversation)\n",
    "    return result\n",
    "\n",
    "conversation = \"haha\"\n",
    "result = await run_eval(conversation)\n",
    "print(result)"
   ]
  }
 ],
 "metadata": {
  "kernelspec": {
   "display_name": "Python 3",
   "language": "python",
   "name": "python3"
  },
  "language_info": {
   "codemirror_mode": {
    "name": "ipython",
    "version": 3
   },
   "file_extension": ".py",
   "mimetype": "text/x-python",
   "name": "python",
   "nbconvert_exporter": "python",
   "pygments_lexer": "ipython3",
   "version": "3.11.5"
  }
 },
 "nbformat": 4,
 "nbformat_minor": 2
}
