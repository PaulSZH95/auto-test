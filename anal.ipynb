{
 "cells": [
  {
   "cell_type": "markdown",
   "metadata": {},
   "source": [
    "#### Two-Stage Evaluation\n",
    "\n",
    "1. Objective Issue Detection \n",
    "\n",
    "2. Subjective Attribute Evaluation"
   ]
  },
  {
   "cell_type": "code",
   "execution_count": 1,
   "metadata": {},
   "outputs": [],
   "source": [
    "from utils import collect_ooc_response\n",
    "collect_ooc_response() "
   ]
  },
  {
   "cell_type": "code",
   "execution_count": 12,
   "metadata": {},
   "outputs": [],
   "source": [
    "# Now we build the evaluator -- Comparative Score (Base on comparing with the buckets)\n",
    "from src.eval import AOEval\n",
    "from src.utils import load_requirements\n",
    "\n",
    "requirements = load_requirements()\n",
    "aoeval = AOEval(requirements) # Async call enabled (Watch-out for request limit)"
   ]
  },
  {
   "cell_type": "code",
   "execution_count": 4,
   "metadata": {},
   "outputs": [
    {
     "name": "stdout",
     "output_type": "stream",
     "text": [
      "{'Funny': 'Ok', 'Concise': 'Ok'}\n"
     ]
    }
   ],
   "source": [
    "import asyncio \n",
    "\n",
    "async def run_eval(conversation):\n",
    "    result = await aoeval.direct_eval(conversation)\n",
    "    return result\n",
    "\n",
    "conversation = \"haha\"\n",
    "result = await run_eval(conversation)\n",
    "print(result)"
   ]
  },
  {
   "cell_type": "code",
   "execution_count": 1,
   "metadata": {},
   "outputs": [
    {
     "name": "stdout",
     "output_type": "stream",
     "text": [
      "vllm package not found. HFModel will not be available.\n",
      "Token will not been saved to git credential helper. Pass `add_to_git_credential=True` if you want to set the git credential as well.\n",
      "Token is valid (permission: write).\n",
      "Your token has been saved to /Users/fangyuanyu/.cache/huggingface/token\n",
      "Login successful\n"
     ]
    }
   ],
   "source": [
    "from src.detect import run_detection\n",
    "import json\n",
    "\n",
    "issue_path = \"data/detect/issues.json\"\n",
    "with open(issue_path, 'r') as file:\n",
    "    detection_issues = json.load(file)\n",
    "    \n",
    "query_path = \"data/detect/queries.json\"\n",
    "with open(query_path, 'r') as file:\n",
    "    queries = json.load(file)[\"queries\"]\n",
    "\n",
    "# run_detection(queries, detection_issues)"
   ]
  },
  {
   "cell_type": "code",
   "execution_count": 13,
   "metadata": {},
   "outputs": [],
   "source": [
    "from src.utils import maria_prompt, alex_prompt\n",
    "\n",
    "# Customer & Agent Prompts\n",
    "eCoach_prompt = maria_prompt\n",
    "eAgent_prompt = alex_prompt"
   ]
  },
  {
   "cell_type": "code",
   "execution_count": 15,
   "metadata": {},
   "outputs": [],
   "source": [
    "import shutil\n",
    "dir = \"data/prompt-benchmark\"\n",
    "shutil.rmtree(dir)"
   ]
  },
  {
   "cell_type": "code",
   "execution_count": 14,
   "metadata": {},
   "outputs": [
    {
     "ename": "ImportError",
     "evalue": "cannot import name 'Detector' from 'src.detect' (/Users/fangyuanyu/Implementation/auto-test/src/detect.py)",
     "output_type": "error",
     "traceback": [
      "\u001b[0;31m---------------------------------------------------------------------------\u001b[0m",
      "\u001b[0;31mImportError\u001b[0m                               Traceback (most recent call last)",
      "Cell \u001b[0;32mIn[14], line 3\u001b[0m\n\u001b[1;32m      1\u001b[0m \u001b[38;5;28;01mimport\u001b[39;00m \u001b[38;5;21;01mjson\u001b[39;00m \n\u001b[1;32m      2\u001b[0m \u001b[38;5;28;01mimport\u001b[39;00m \u001b[38;5;21;01mrandom\u001b[39;00m \n\u001b[0;32m----> 3\u001b[0m \u001b[38;5;28;01mfrom\u001b[39;00m \u001b[38;5;21;01msrc\u001b[39;00m\u001b[38;5;21;01m.\u001b[39;00m\u001b[38;5;21;01mdetect\u001b[39;00m \u001b[38;5;28;01mimport\u001b[39;00m Detector\n\u001b[1;32m      5\u001b[0m \u001b[38;5;66;03m# Run Issue Detection with Class Object here \u001b[39;00m\n\u001b[1;32m      6\u001b[0m model_names \u001b[38;5;241m=\u001b[39m [\u001b[38;5;124m\"\u001b[39m\u001b[38;5;124mgoogle/gemini-flash-1.5\u001b[39m\u001b[38;5;124m\"\u001b[39m, \u001b[38;5;124m\"\u001b[39m\u001b[38;5;124mopenai/gpt-4o\u001b[39m\u001b[38;5;124m\"\u001b[39m, \u001b[38;5;124m\"\u001b[39m\u001b[38;5;124mqwen/qwen-110b-chat\u001b[39m\u001b[38;5;124m\"\u001b[39m, \u001b[38;5;124m\"\u001b[39m\u001b[38;5;124mgoogle/gemini-pro-1.5\u001b[39m\u001b[38;5;124m\"\u001b[39m, \u001b[38;5;124m\"\u001b[39m\u001b[38;5;124mcohere/command-r-plus\u001b[39m\u001b[38;5;124m\"\u001b[39m, \u001b[38;5;124m\"\u001b[39m\u001b[38;5;124mmistralai/mistral-large\u001b[39m\u001b[38;5;124m\"\u001b[39m, \u001b[38;5;124m\"\u001b[39m\u001b[38;5;124mmistralai/mixtral-8x22b-instruct\u001b[39m\u001b[38;5;124m\"\u001b[39m]\n",
      "\u001b[0;31mImportError\u001b[0m: cannot import name 'Detector' from 'src.detect' (/Users/fangyuanyu/Implementation/auto-test/src/detect.py)"
     ]
    }
   ],
   "source": [
    "import json \n",
    "import random \n",
    "from src.detect import Detector\n",
    "\n",
    "# Run Issue Detection with Class Object here \n",
    "model_names = [\"google/gemini-flash-1.5\", \"openai/gpt-4o\", \"qwen/qwen-110b-chat\", \"google/gemini-pro-1.5\", \"cohere/command-r-plus\", \"mistralai/mistral-large\", \"mistralai/mixtral-8x22b-instruct\"]\n",
    "sales_model_name = random.choice(model_names)\n",
    "\n",
    "detector = Detector.make(False,\n",
    "                         sales_model_name,\n",
    "                         eCoach_prompt, \n",
    "                         eAgent_prompt)\n",
    "\n",
    "issue_history, conversation_history = detector.run()"
   ]
  },
  {
   "cell_type": "code",
   "execution_count": null,
   "metadata": {},
   "outputs": [],
   "source": []
  },
  {
   "cell_type": "code",
   "execution_count": null,
   "metadata": {},
   "outputs": [],
   "source": []
  },
  {
   "cell_type": "code",
   "execution_count": null,
   "metadata": {},
   "outputs": [],
   "source": []
  },
  {
   "cell_type": "code",
   "execution_count": null,
   "metadata": {},
   "outputs": [],
   "source": []
  },
  {
   "cell_type": "code",
   "execution_count": null,
   "metadata": {},
   "outputs": [],
   "source": []
  },
  {
   "cell_type": "code",
   "execution_count": null,
   "metadata": {},
   "outputs": [],
   "source": []
  },
  {
   "cell_type": "code",
   "execution_count": null,
   "metadata": {},
   "outputs": [],
   "source": []
  },
  {
   "cell_type": "code",
   "execution_count": null,
   "metadata": {},
   "outputs": [],
   "source": []
  },
  {
   "cell_type": "code",
   "execution_count": null,
   "metadata": {},
   "outputs": [],
   "source": []
  },
  {
   "cell_type": "code",
   "execution_count": null,
   "metadata": {},
   "outputs": [],
   "source": []
  }
 ],
 "metadata": {
  "kernelspec": {
   "display_name": "Python 3",
   "language": "python",
   "name": "python3"
  },
  "language_info": {
   "codemirror_mode": {
    "name": "ipython",
    "version": 3
   },
   "file_extension": ".py",
   "mimetype": "text/x-python",
   "name": "python",
   "nbconvert_exporter": "python",
   "pygments_lexer": "ipython3",
   "version": "3.11.5"
  }
 },
 "nbformat": 4,
 "nbformat_minor": 2
}
