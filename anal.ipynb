{
 "cells": [
  {
   "cell_type": "markdown",
   "metadata": {},
   "source": [
    "#### Two-Stage Evaluation\n",
    "\n",
    "1. Objective Issue Detection \n",
    "\n",
    "2. Subjective Attribute Evaluation"
   ]
  },
  {
   "cell_type": "code",
   "execution_count": 1,
   "metadata": {},
   "outputs": [],
   "source": [
    "from utils import collect_ooc_response\n",
    "collect_ooc_response() "
   ]
  },
  {
   "cell_type": "code",
   "execution_count": 12,
   "metadata": {},
   "outputs": [],
   "source": [
    "# Now we build the evaluator -- Comparative Score (Base on comparing with the buckets)\n",
    "from src.eval import AOEval\n",
    "from src.utils import load_requirements\n",
    "\n",
    "requirements = load_requirements()\n",
    "aoeval = AOEval(requirements) # Async call enabled (Watch-out for request limit)"
   ]
  },
  {
   "cell_type": "code",
   "execution_count": 4,
   "metadata": {},
   "outputs": [
    {
     "name": "stdout",
     "output_type": "stream",
     "text": [
      "{'Funny': 'Ok', 'Concise': 'Ok'}\n"
     ]
    }
   ],
   "source": [
    "import asyncio \n",
    "\n",
    "async def run_eval(conversation):\n",
    "    result = await aoeval.direct_eval(conversation)\n",
    "    return result\n",
    "\n",
    "conversation = \"haha\"\n",
    "result = await run_eval(conversation)\n",
    "print(result)"
   ]
  },
  {
   "cell_type": "code",
   "execution_count": 4,
   "metadata": {},
   "outputs": [],
   "source": [
    "# from src.detect import run_detection\n",
    "import json\n",
    "\n",
    "issue_path = \"data/detect/issues.json\"\n",
    "with open(issue_path, 'r') as file:\n",
    "    detection_issues = json.load(file)\n",
    "    \n",
    "query_path = \"data/detect/queries.json\"\n",
    "with open(query_path, 'r') as file:\n",
    "    queries = json.load(file)[\"queries\"]\n",
    "\n",
    "# run_detection(queries, detection_issues)"
   ]
  },
  {
   "cell_type": "code",
   "execution_count": null,
   "metadata": {},
   "outputs": [],
   "source": []
  },
  {
   "cell_type": "code",
   "execution_count": 1,
   "metadata": {},
   "outputs": [
    {
     "name": "stdout",
     "output_type": "stream",
     "text": [
      "vllm package not found. HFModel will not be available.\n",
      "Token will not been saved to git credential helper. Pass `add_to_git_credential=True` if you want to set the git credential as well.\n",
      "Token is valid (permission: write).\n",
      "Your token has been saved to /Users/fangyuanyu/.cache/huggingface/token\n",
      "Login successful\n"
     ]
    },
    {
     "name": "stderr",
     "output_type": "stream",
     "text": [
      "Special tokens have been added in the vocabulary, make sure the associated word embeddings are fine-tuned or trained.\n"
     ]
    }
   ],
   "source": [
    "import json \n",
    "import random \n",
    "from src.detect import Detector\n",
    "from src.utils import maria_prompt, alex_prompt\n",
    "\n",
    "# Customer & Agent Prompts\n",
    "eCoach_prompt = maria_prompt\n",
    "eAgent_prompt = alex_prompt\n",
    "\n",
    "# Run Issue Detection with Class Object here \n",
    "model_names = [\"google/gemini-flash-1.5\", \"openai/gpt-4o\", \"qwen/qwen-110b-chat\", \"google/gemini-pro-1.5\", \"cohere/command-r-plus\", \"mistralai/mistral-large\", \"mistralai/mixtral-8x22b-instruct\"]\n",
    "query_path = \"data/detect/queries.json\"\n",
    "with open(query_path, 'r') as file:\n",
    "    queries = json.load(file)[\"queries\"]\n",
    "    \n",
    "    \n",
    "# Radomize Initial Query & Sales Model Name\n",
    "sales_model_name = random.choice(model_names)\n",
    "query = random.choice(queries)\n",
    "\n",
    "detector = Detector.make(False,\n",
    "                         sales_model_name,\n",
    "                         eCoach_prompt, \n",
    "                         eAgent_prompt,\n",
    "                         query)\n",
    "\n",
    "# issue_history, conversation_history = detector.run()"
   ]
  },
  {
   "cell_type": "code",
   "execution_count": 10,
   "metadata": {},
   "outputs": [
    {
     "data": {
      "text/plain": [
       "[{'role': 'sales_agent', 'content': \"Hey Maria, how's it going?\"},\n",
       " {'role': 'customer',\n",
       "  'content': \"Hi Alex, I'm doing well thanks for asking. Nice to finally meet you here at Starbucks.\"},\n",
       " {'role': 'sales_agent',\n",
       "  'content': 'Hi Maria, great to meet you too! So, how are you feeling about your current life insurance coverage? 😊 \\n'},\n",
       " {'role': 'customer',\n",
       "  'content': \"Honestly, I don't really have any life insurance right now. I've been meaning to look into it though since my friend recommended you.\"},\n",
       " {'role': 'sales_agent',\n",
       "  'content': 'That\\'s great to hear! Many people find our \"set-for-life\" plan offers valuable peace of mind. 😊 \\n'}]"
      ]
     },
     "execution_count": 10,
     "metadata": {},
     "output_type": "execute_result"
    }
   ],
   "source": [
    "detector.mapped_conversation"
   ]
  },
  {
   "cell_type": "code",
   "execution_count": null,
   "metadata": {},
   "outputs": [],
   "source": []
  },
  {
   "cell_type": "code",
   "execution_count": null,
   "metadata": {},
   "outputs": [],
   "source": []
  },
  {
   "cell_type": "code",
   "execution_count": null,
   "metadata": {},
   "outputs": [],
   "source": []
  },
  {
   "cell_type": "code",
   "execution_count": null,
   "metadata": {},
   "outputs": [],
   "source": []
  },
  {
   "cell_type": "code",
   "execution_count": null,
   "metadata": {},
   "outputs": [],
   "source": []
  }
 ],
 "metadata": {
  "kernelspec": {
   "display_name": "Python 3",
   "language": "python",
   "name": "python3"
  },
  "language_info": {
   "codemirror_mode": {
    "name": "ipython",
    "version": 3
   },
   "file_extension": ".py",
   "mimetype": "text/x-python",
   "name": "python",
   "nbconvert_exporter": "python",
   "pygments_lexer": "ipython3",
   "version": "3.11.5"
  }
 },
 "nbformat": 4,
 "nbformat_minor": 2
}
