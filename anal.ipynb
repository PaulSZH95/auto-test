{
 "cells": [
  {
   "cell_type": "markdown",
   "metadata": {},
   "source": [
    "#### Two-Stage Evaluation\n",
    "\n",
    "1. Objective Issue Detection \n",
    "\n",
    "2. Subjective Attribute Evaluation"
   ]
  },
  {
   "cell_type": "code",
   "execution_count": 1,
   "metadata": {},
   "outputs": [],
   "source": [
    "from utils import collect_ooc_response\n",
    "collect_ooc_response() "
   ]
  },
  {
   "cell_type": "code",
   "execution_count": 1,
   "metadata": {},
   "outputs": [],
   "source": [
    "from src.attribute import Requirement, Attribute\n",
    "\n",
    "requirements = [\n",
    "    {\n",
    "        \"name\": \"Funny\",\n",
    "        \"desc\": \"Assistant should be funny.\",\n",
    "    },\n",
    "    {\n",
    "        \"name\": \"Concise\",\n",
    "        \"desc\": \"Response from assistant should be concise and within 2 sentences\",\n",
    "    }\n",
    "]\n",
    "\n",
    "requirement = Requirement.make(requirements)"
   ]
  },
  {
   "cell_type": "code",
   "execution_count": 2,
   "metadata": {},
   "outputs": [
    {
     "name": "stdout",
     "output_type": "stream",
     "text": [
      "vllm package not found. HFModel will not be available.\n",
      "Token will not been saved to git credential helper. Pass `add_to_git_credential=True` if you want to set the git credential as well.\n",
      "Token is valid (permission: write).\n",
      "Your token has been saved to /Users/fangyuanyu/.cache/huggingface/token\n",
      "Login successful\n"
     ]
    }
   ],
   "source": [
    "# Now we build the evaluator -- Comparative Score (Base on comparing with the buckets)\n",
    "from src.eval import AOEval\n",
    "\n",
    "\n",
    "aoeval = AOEval(requirement) # Async call enabled (Watch-out for request limit)"
   ]
  },
  {
   "cell_type": "code",
   "execution_count": 4,
   "metadata": {},
   "outputs": [
    {
     "name": "stdout",
     "output_type": "stream",
     "text": [
      "{'Funny': 'Ok', 'Concise': 'Ok'}\n"
     ]
    }
   ],
   "source": [
    "import asyncio \n",
    "\n",
    "async def run_eval(conversation):\n",
    "    result = await aoeval.direct_eval(conversation)\n",
    "    return result\n",
    "\n",
    "conversation = \"haha\"\n",
    "result = await run_eval(conversation)\n",
    "print(result)"
   ]
  },
  {
   "cell_type": "code",
   "execution_count": 6,
   "metadata": {},
   "outputs": [
    {
     "name": "stdout",
     "output_type": "stream",
     "text": [
      "Attribute: Concise\n",
      "Conversation:\n",
      "haha\n",
      "Suggested bucket: Ok\n"
     ]
    },
    {
     "data": {
      "text/plain": [
       "'Ok'"
      ]
     },
     "execution_count": 6,
     "metadata": {},
     "output_type": "execute_result"
    }
   ],
   "source": [
    "aoeval.human_annotation(\"haha\", requirement.attributes[1], \"Ok\")"
   ]
  },
  {
   "cell_type": "code",
   "execution_count": null,
   "metadata": {},
   "outputs": [],
   "source": []
  }
 ],
 "metadata": {
  "kernelspec": {
   "display_name": "Python 3",
   "language": "python",
   "name": "python3"
  },
  "language_info": {
   "codemirror_mode": {
    "name": "ipython",
    "version": 3
   },
   "file_extension": ".py",
   "mimetype": "text/x-python",
   "name": "python",
   "nbconvert_exporter": "python",
   "pygments_lexer": "ipython3",
   "version": "3.11.5"
  }
 },
 "nbformat": 4,
 "nbformat_minor": 2
}
